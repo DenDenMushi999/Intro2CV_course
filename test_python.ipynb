{
 "cells": [
  {
   "cell_type": "code",
   "execution_count": 5,
   "metadata": {},
   "outputs": [
    {
     "name": "stdout",
     "output_type": "stream",
     "text": [
      "[1 1 1 2 3 4 5 6 7 8 9 1 1]\n",
      "[3 3 3 3 3 4 5 5 5 5 5 3 3]\n"
     ]
    }
   ],
   "source": [
    "import numpy as np\n",
    "\n",
    "a = np.array([0,0,1,2,3,4,5,6,7,8,9,0,0])\n",
    "print(np.maximum(a, 1))\n",
    "print(np.clip(a, 3,5))\n"
   ]
  },
  {
   "cell_type": "code",
   "execution_count": 6,
   "metadata": {},
   "outputs": [],
   "source": [
    "xx, yy = np.meshgrid(a, a)"
   ]
  },
  {
   "cell_type": "code",
   "execution_count": 8,
   "metadata": {},
   "outputs": [
    {
     "name": "stdout",
     "output_type": "stream",
     "text": [
      "[[0 0 1 2 3 4 5 6 7 8 9 0 0]\n",
      " [0 0 1 2 3 4 5 6 7 8 9 0 0]\n",
      " [0 0 1 2 3 4 5 6 7 8 9 0 0]\n",
      " [0 0 1 2 3 4 5 6 7 8 9 0 0]\n",
      " [0 0 1 2 3 4 5 6 7 8 9 0 0]\n",
      " [0 0 1 2 3 4 5 6 7 8 9 0 0]\n",
      " [0 0 1 2 3 4 5 6 7 8 9 0 0]\n",
      " [0 0 1 2 3 4 5 6 7 8 9 0 0]\n",
      " [0 0 1 2 3 4 5 6 7 8 9 0 0]\n",
      " [0 0 1 2 3 4 5 6 7 8 9 0 0]\n",
      " [0 0 1 2 3 4 5 6 7 8 9 0 0]\n",
      " [0 0 1 2 3 4 5 6 7 8 9 0 0]\n",
      " [0 0 1 2 3 4 5 6 7 8 9 0 0]]\n",
      "[[2 2 2 2 3 4 5 5 5 5 5 2 2]\n",
      " [2 2 2 2 3 4 5 5 5 5 5 2 2]\n",
      " [2 2 2 2 3 4 5 5 5 5 5 2 2]\n",
      " [2 2 2 2 3 4 5 5 5 5 5 2 2]\n",
      " [2 2 2 2 3 4 5 5 5 5 5 2 2]\n",
      " [2 2 2 2 3 4 5 5 5 5 5 2 2]\n",
      " [2 2 2 2 3 4 5 5 5 5 5 2 2]\n",
      " [2 2 2 2 3 4 5 5 5 5 5 2 2]\n",
      " [2 2 2 2 3 4 5 5 5 5 5 2 2]\n",
      " [2 2 2 2 3 4 5 5 5 5 5 2 2]\n",
      " [2 2 2 2 3 4 5 5 5 5 5 2 2]\n",
      " [2 2 2 2 3 4 5 5 5 5 5 2 2]\n",
      " [2 2 2 2 3 4 5 5 5 5 5 2 2]]\n"
     ]
    }
   ],
   "source": [
    "print(xx)\n",
    "print(np.clip(xx, 2,5))"
   ]
  },
  {
   "cell_type": "code",
   "execution_count": 18,
   "metadata": {},
   "outputs": [
    {
     "name": "stdout",
     "output_type": "stream",
     "text": [
      "(array([[0, 0, 0, 0, 0, 0, 0, 0, 0],\n",
      "       [0, 1, 1, 1, 0, 0, 0, 0, 0],\n",
      "       [0, 1, 2, 1, 0, 0, 0, 0, 0],\n",
      "       [0, 0, 2, 0, 0, 3, 3, 3, 0],\n",
      "       [0, 4, 0, 0, 0, 3, 3, 3, 0],\n",
      "       [0, 4, 0, 0, 0, 3, 3, 3, 0],\n",
      "       [0, 0, 4, 0, 0, 0, 0, 0, 0]]), 4)\n"
     ]
    }
   ],
   "source": [
    "from skimage.measure import label\n",
    "\n",
    "bb = np.array([[0,0,0,0,0,0,0,0,0],\n",
    "               [0,1,1,1,0,0,0,0,0],\n",
    "               [0,1,2,1,0,0,0,0,0],\n",
    "               [0,0,2,0,0,1,1,1,0],\n",
    "               [0,1,0,0,0,1,1,1,0],\n",
    "               [0,1,0,0,0,1,1,1,0],\n",
    "               [0,0,1,0,0,0,0,0,0]])\n",
    "\n",
    "print(label(bb, connectivity=2, return_num=True))"
   ]
  },
  {
   "cell_type": "code",
   "execution_count": null,
   "metadata": {},
   "outputs": [],
   "source": []
  }
 ],
 "metadata": {
  "kernelspec": {
   "display_name": "Python 3.8.10 64-bit",
   "language": "python",
   "name": "python3"
  },
  "language_info": {
   "codemirror_mode": {
    "name": "ipython",
    "version": 3
   },
   "file_extension": ".py",
   "mimetype": "text/x-python",
   "name": "python",
   "nbconvert_exporter": "python",
   "pygments_lexer": "ipython3",
   "version": "3.8.10"
  },
  "orig_nbformat": 4,
  "vscode": {
   "interpreter": {
    "hash": "916dbcbb3f70747c44a77c7bcd40155683ae19c65e1c03b4aa3499c5328201f1"
   }
  }
 },
 "nbformat": 4,
 "nbformat_minor": 2
}
