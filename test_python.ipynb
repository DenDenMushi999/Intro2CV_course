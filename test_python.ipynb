{
 "cells": [
  {
   "cell_type": "code",
   "execution_count": 1,
   "metadata": {},
   "outputs": [
    {
     "name": "stdout",
     "output_type": "stream",
     "text": [
      "[1 1 1 2 3 4 5 6 7 8 9 1 1]\n",
      "[3 3 3 3 3 4 5 5 5 5 5 3 3]\n"
     ]
    }
   ],
   "source": [
    "import numpy as np\n",
    "import cv2\n",
    "import matplotlib.pyplot as plt\n",
    "\n",
    "a = np.array([0,0,1,2,3,4,5,6,7,8,9,0,0])\n",
    "print(np.maximum(a, 1))\n",
    "print(np.clip(a, 3,5))\n"
   ]
  },
  {
   "cell_type": "code",
   "execution_count": 2,
   "metadata": {},
   "outputs": [],
   "source": [
    "xx, yy = np.meshgrid(a, a)"
   ]
  },
  {
   "cell_type": "code",
   "execution_count": 3,
   "metadata": {},
   "outputs": [
    {
     "name": "stdout",
     "output_type": "stream",
     "text": [
      "[[0 0 1 2 3 4 5 6 7 8 9 0 0]\n",
      " [0 0 1 2 3 4 5 6 7 8 9 0 0]\n",
      " [0 0 1 2 3 4 5 6 7 8 9 0 0]\n",
      " [0 0 1 2 3 4 5 6 7 8 9 0 0]\n",
      " [0 0 1 2 3 4 5 6 7 8 9 0 0]\n",
      " [0 0 1 2 3 4 5 6 7 8 9 0 0]\n",
      " [0 0 1 2 3 4 5 6 7 8 9 0 0]\n",
      " [0 0 1 2 3 4 5 6 7 8 9 0 0]\n",
      " [0 0 1 2 3 4 5 6 7 8 9 0 0]\n",
      " [0 0 1 2 3 4 5 6 7 8 9 0 0]\n",
      " [0 0 1 2 3 4 5 6 7 8 9 0 0]\n",
      " [0 0 1 2 3 4 5 6 7 8 9 0 0]\n",
      " [0 0 1 2 3 4 5 6 7 8 9 0 0]]\n",
      "[[2 2 2 2 3 4 5 5 5 5 5 2 2]\n",
      " [2 2 2 2 3 4 5 5 5 5 5 2 2]\n",
      " [2 2 2 2 3 4 5 5 5 5 5 2 2]\n",
      " [2 2 2 2 3 4 5 5 5 5 5 2 2]\n",
      " [2 2 2 2 3 4 5 5 5 5 5 2 2]\n",
      " [2 2 2 2 3 4 5 5 5 5 5 2 2]\n",
      " [2 2 2 2 3 4 5 5 5 5 5 2 2]\n",
      " [2 2 2 2 3 4 5 5 5 5 5 2 2]\n",
      " [2 2 2 2 3 4 5 5 5 5 5 2 2]\n",
      " [2 2 2 2 3 4 5 5 5 5 5 2 2]\n",
      " [2 2 2 2 3 4 5 5 5 5 5 2 2]\n",
      " [2 2 2 2 3 4 5 5 5 5 5 2 2]\n",
      " [2 2 2 2 3 4 5 5 5 5 5 2 2]]\n"
     ]
    }
   ],
   "source": [
    "print(xx)\n",
    "print(np.clip(xx, 2,5))"
   ]
  },
  {
   "cell_type": "code",
   "execution_count": 4,
   "metadata": {},
   "outputs": [
    {
     "name": "stdout",
     "output_type": "stream",
     "text": [
      "[[0 0 0 0 0 0 0 0 0]\n",
      " [0 1 1 1 0 0 0 0 0]\n",
      " [0 1 2 1 0 0 0 0 0]\n",
      " [0 0 2 0 0 3 3 3 0]\n",
      " [0 4 0 0 0 3 3 3 0]\n",
      " [0 4 0 0 0 3 3 3 0]\n",
      " [0 0 4 0 0 0 0 0 0]] int64\n"
     ]
    }
   ],
   "source": [
    "from skimage.measure import label\n",
    "\n",
    "bb = np.array([[0,0,0,0,0,0,0,0,0],\n",
    "               [0,1,1,1,0,0,0,0,0],\n",
    "               [0,1,2,1,0,0,0,0,0],\n",
    "               [0,0,2,0,0,1,1,1,0],\n",
    "               [0,1,0,0,0,1,1,1,0],\n",
    "               [0,1,0,0,0,1,1,1,0],\n",
    "               [0,0,1,0,0,0,0,0,0]])\n",
    "\n",
    "labelled, nlables = label(bb, connectivity=2, return_num=True) \n",
    "print(labelled, labelled.dtype)"
   ]
  },
  {
   "cell_type": "code",
   "execution_count": 5,
   "metadata": {},
   "outputs": [
    {
     "name": "stdout",
     "output_type": "stream",
     "text": [
      "[[1. 0. 0. 0. 0. 0. 0. 0. 0. 0.]\n",
      " [0. 1. 0. 0. 0. 0. 0. 0. 0. 0.]\n",
      " [0. 0. 1. 0. 0. 0. 0. 0. 0. 0.]\n",
      " [0. 0. 0. 1. 0. 0. 0. 0. 0. 0.]\n",
      " [0. 0. 0. 0. 1. 0. 0. 0. 0. 0.]\n",
      " [0. 0. 0. 0. 0. 1. 0. 0. 0. 0.]\n",
      " [0. 0. 0. 0. 0. 0. 1. 0. 0. 0.]\n",
      " [0. 0. 0. 0. 0. 0. 0. 1. 0. 0.]\n",
      " [0. 0. 0. 0. 0. 0. 0. 0. 1. 0.]\n",
      " [0. 0. 0. 0. 0. 0. 0. 0. 0. 1.]]\n",
      "[[1. 1. 1. 0. 0. 0. 0. 0. 0. 0.]\n",
      " [1. 1. 1. 1. 0. 0. 0. 0. 0. 0.]\n",
      " [1. 1. 1. 1. 1. 0. 0. 0. 0. 0.]\n",
      " [0. 1. 1. 1. 1. 1. 0. 0. 0. 0.]\n",
      " [0. 0. 1. 1. 1. 1. 1. 0. 0. 0.]\n",
      " [0. 0. 0. 1. 1. 1. 1. 1. 0. 0.]\n",
      " [0. 0. 0. 0. 1. 1. 1. 1. 1. 0.]\n",
      " [0. 0. 0. 0. 0. 1. 1. 1. 1. 1.]\n",
      " [0. 0. 0. 0. 0. 0. 1. 1. 1. 1.]\n",
      " [0. 0. 0. 0. 0. 0. 0. 1. 1. 1.]]\n"
     ]
    }
   ],
   "source": [
    "bbb = np.eye(10, 10)\n",
    "\n",
    "print(bbb)\n",
    "print(cv2.dilate(bbb, np.ones((3,3))))"
   ]
  },
  {
   "cell_type": "code",
   "execution_count": 6,
   "metadata": {},
   "outputs": [
    {
     "name": "stdout",
     "output_type": "stream",
     "text": [
      "[[0. 0. 0. 0. 0.]\n",
      " [0. 1. 1. 1. 0.]\n",
      " [0. 1. 1. 1. 0.]\n",
      " [0. 1. 1. 1. 0.]\n",
      " [0. 0. 0. 0. 0.]] [[1. 1. 1.]\n",
      " [1. 1. 1.]\n",
      " [1. 1. 1.]]\n"
     ]
    }
   ],
   "source": [
    "aaa = np.zeros((5,5))\n",
    "bbb = aaa[1:4,1:4]\n",
    "bbb[:,:] = 1\n",
    "print(aaa, bbb)"
   ]
  },
  {
   "cell_type": "code",
   "execution_count": 7,
   "metadata": {},
   "outputs": [
    {
     "name": "stdout",
     "output_type": "stream",
     "text": [
      "[[0. 0. 0. 0. 0.]\n",
      " [0. 0. 0. 0. 0.]\n",
      " [0. 0. 0. 0. 0.]\n",
      " [0. 0. 0. 0. 0.]\n",
      " [0. 0. 0. 0. 0.]] [[1. 1. 1.]\n",
      " [1. 1. 1.]\n",
      " [1. 1. 1.]]\n"
     ]
    }
   ],
   "source": [
    "aaa = np.zeros((5,5))\n",
    "bbb = aaa[1:4,1:4].copy()\n",
    "bbb[:,:] = 1\n",
    "print(aaa, bbb)"
   ]
  },
  {
   "cell_type": "code",
   "execution_count": 11,
   "metadata": {},
   "outputs": [
    {
     "data": {
      "image/png": "[encoded data removed]",
      "text/plain": [
       "<Figure size 432x288 with 1 Axes>"
      ]
     },
     "metadata": {
      "needs_background": "light"
     },
     "output_type": "display_data"
    }
   ],
   "source": [
    "aaa = np.zeros((100,100), np.uint8)\n",
    "aaa = cv2.circle(aaa, (50,50), 20, (255,255,255), -1)\n",
    "bbb = np.zeros((100,100), np.uint8)\n",
    "bbb = cv2.circle(bbb, (70,70), 20, (255,255,255), -1)\n",
    "ccc = cv2.bitwise_and(aaa, bbb)\n",
    "plt.imshow(aaa);\n",
    "plt.imshow(bbb);\n",
    "plt.imshow(ccc);"
   ]
  },
  {
   "cell_type": "code",
   "execution_count": 9,
   "metadata": {},
   "outputs": [
    {
     "name": "stdout",
     "output_type": "stream",
     "text": [
      "func\n",
      "func\n"
     ]
    },
    {
     "ename": "TypeError",
     "evalue": "'str' object is not callable",
     "output_type": "error",
     "traceback": [
      "\u001b[0;31m---------------------------------------------------------------------------\u001b[0m",
      "\u001b[0;31mTypeError\u001b[0m                                 Traceback (most recent call last)",
      "\u001b[1;32m/home/dendav/projects/Intro2CV_course/test_python.ipynb Cell 9\u001b[0m in \u001b[0;36m<cell line: 8>\u001b[0;34m()\u001b[0m\n\u001b[1;32m      <a href='vscode-notebook-cell:/home/dendav/projects/Intro2CV_course/test_python.ipynb#X11sZmlsZQ%3D%3D?line=3'>4</a>\u001b[0m f \u001b[39m=\u001b[39m f()\n\u001b[1;32m      <a href='vscode-notebook-cell:/home/dendav/projects/Intro2CV_course/test_python.ipynb#X11sZmlsZQ%3D%3D?line=5'>6</a>\u001b[0m \u001b[39mprint\u001b[39m(f)\n\u001b[0;32m----> <a href='vscode-notebook-cell:/home/dendav/projects/Intro2CV_course/test_python.ipynb#X11sZmlsZQ%3D%3D?line=7'>8</a>\u001b[0m \u001b[39mprint\u001b[39m(f())\n",
      "\u001b[0;31mTypeError\u001b[0m: 'str' object is not callable"
     ]
    }
   ],
   "source": [
    "def f():\n",
    "    print('func')\n",
    "    return 'func'\n",
    "f = f()\n",
    "\n",
    "print(f)\n",
    "\n",
    "print(f())"
   ]
  },
  {
   "cell_type": "code",
   "execution_count": 28,
   "metadata": {},
   "outputs": [
    {
     "name": "stdout",
     "output_type": "stream",
     "text": [
      "(2, 3)\n",
      "[[1 1 1 1 1 1 1 1 1]\n",
      " [2 2 2 2 2 2 2 2 2]]\n",
      "\n"
     ]
    }
   ],
   "source": [
    "aa = np.array([[1,1,1],\n",
    "               [2,2,2]])\n",
    "print(aa.shape)\n",
    "print(np.tile(aa, (1,3)) )\n",
    "print()"
   ]
  },
  {
   "cell_type": "code",
   "execution_count": null,
   "metadata": {},
   "outputs": [],
   "source": []
  }
 ],
 "metadata": {
  "kernelspec": {
   "display_name": "Python 3.8.10 64-bit",
   "language": "python",
   "name": "python3"
  },
  "language_info": {
   "codemirror_mode": {
    "name": "ipython",
    "version": 3
   },
   "file_extension": ".py",
   "mimetype": "text/x-python",
   "name": "python",
   "nbconvert_exporter": "python",
   "pygments_lexer": "ipython3",
   "version": "3.8.10"
  },
  "orig_nbformat": 4,
  "vscode": {
   "interpreter": {
    "hash": "916dbcbb3f70747c44a77c7bcd40155683ae19c65e1c03b4aa3499c5328201f1"
   }
  }
 },
 "nbformat": 4,
 "nbformat_minor": 2
}
